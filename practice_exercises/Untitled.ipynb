{
  "metadata": {
    "kernelspec": {
      "name": "python",
      "display_name": "Python (Pyodide)",
      "language": "python"
    },
    "language_info": {
      "codemirror_mode": {
        "name": "python",
        "version": 3
      },
      "file_extension": ".py",
      "mimetype": "text/x-python",
      "name": "python",
      "nbconvert_exporter": "python",
      "pygments_lexer": "ipython3",
      "version": "3.8"
    }
  },
  "nbformat_minor": 5,
  "nbformat": 4,
  "cells": [
    {
      "id": "3f7af100-3696-4164-8146-6ae540511bde",
      "cell_type": "code",
      "source": "11//2",
      "metadata": {
        "trusted": true
      },
      "outputs": [
        {
          "execution_count": 2,
          "output_type": "execute_result",
          "data": {
            "text/plain": "5"
          },
          "metadata": {}
        }
      ],
      "execution_count": 2
    },
    {
      "id": "1932a44f-061b-4617-9b43-7e1edf9c9a51",
      "cell_type": "code",
      "source": "name=\"Michael Jackson\"\nname[-1]",
      "metadata": {
        "trusted": true
      },
      "outputs": [
        {
          "execution_count": 3,
          "output_type": "execute_result",
          "data": {
            "text/plain": "'n'"
          },
          "metadata": {}
        }
      ],
      "execution_count": 3
    },
    {
      "id": "a7a2ebe3-3502-4019-a381-9357667022f3",
      "cell_type": "code",
      "source": "print(\"AB\\nC\\nDE\")\n\n",
      "metadata": {
        "trusted": true
      },
      "outputs": [
        {
          "name": "stdout",
          "output_type": "stream",
          "text": "AB\nC\nDE\n"
        }
      ],
      "execution_count": 4
    },
    {
      "id": "a4746e39-5723-4a05-8cd0-21422feeeecc",
      "cell_type": "code",
      "source": "\"helloMike\".find(\"Mike\")",
      "metadata": {
        "trusted": true
      },
      "outputs": [
        {
          "execution_count": 5,
          "output_type": "execute_result",
          "data": {
            "text/plain": "5"
          },
          "metadata": {}
        }
      ],
      "execution_count": 5
    },
    {
      "id": "8c13a747-3f05-453f-b232-a701a14d35f6",
      "cell_type": "code",
      "source": "'1'+'2'",
      "metadata": {
        "trusted": true
      },
      "outputs": [
        {
          "execution_count": 6,
          "output_type": "execute_result",
          "data": {
            "text/plain": "'12'"
          },
          "metadata": {}
        }
      ],
      "execution_count": 6
    },
    {
      "id": "195dd885-d81e-49f4-b317-7cd57e6bd466",
      "cell_type": "code",
      "source": "myvar = 'hello'\nmyvar.upper()",
      "metadata": {
        "trusted": true
      },
      "outputs": [
        {
          "execution_count": 10,
          "output_type": "execute_result",
          "data": {
            "text/plain": "'HELLO'"
          },
          "metadata": {}
        }
      ],
      "execution_count": 10
    },
    {
      "id": "d93e7598-d5c2-4602-bd9a-4ce5dc49def1",
      "cell_type": "code",
      "source": "x=str('Fun Python')\nx[4:10]",
      "metadata": {
        "trusted": true
      },
      "outputs": [
        {
          "execution_count": 13,
          "output_type": "execute_result",
          "data": {
            "text/plain": "'Python'"
          },
          "metadata": {}
        }
      ],
      "execution_count": 13
    },
    {
      "id": "ddcc0ac9-a3ad-418b-974c-9f165fc1f7cd",
      "cell_type": "code",
      "source": "import matplotlib.pyplot as plt\n\nclass Circle(object):\n    # Constructor\n    def __init__(self, radius=3, color='blue'):\n        self.radius = radius\n        self.color = color\n    # Method\n    def add_radius(self, r):\n        self.radius = self.radius + r\n        return self.radius\n    def drawCircle(self):\n        plt.gca().add_patch(plt.Circle((0, 0), radius=self.radius, fc=self.color))\n        plt.axis('scaled')\n        plt.show()  \n\nC1=Circle(4,'yellow')\nC1.radius = 10\nC1.drawCircle()",
      "metadata": {
        "trusted": true
      },
      "outputs": [
        {
          "output_type": "display_data",
          "data": {
            "text/plain": "<Figure size 640x480 with 1 Axes>",
            "image/png": "[encoded data removed]"
          },
          "metadata": {}
        }
      ],
      "execution_count": 19
    },
    {
      "id": "fda0a169-a36e-428f-a7bf-cfeb667f51c4",
      "cell_type": "code",
      "source": "class Vehicle:\n    color = \"white\"\n\n\n    def __init__(self, max_speed, mileage):\n        self.max_speed = max_speed\n        self.mileage = mileage\n        self.seating_capacity = None\n\n\n    def assign_seating_capacity(self, seating_capacity):\n        self.seating_capacity = seating_capacity\n\n\nV1 = Vehicle(150, 25)\nV1.color",
      "metadata": {
        "trusted": true
      },
      "outputs": [
        {
          "execution_count": 21,
          "output_type": "execute_result",
          "data": {
            "text/plain": "'white'"
          },
          "metadata": {}
        }
      ],
      "execution_count": 21
    },
    {
      "id": "6625fc32-bfda-42d1-9884-106f29881780",
      "cell_type": "code",
      "source": "class Graph():\n    def __init__(self, id):\n        self.id = id\n        self.id = 80\n\n\nval = Graph(200)\nprint(val.id)",
      "metadata": {
        "trusted": true
      },
      "outputs": [
        {
          "name": "stdout",
          "output_type": "stream",
          "text": "80\n"
        }
      ],
      "execution_count": 22
    },
    {
      "id": "128de005-440b-4e12-b907-41261b59dad9",
      "cell_type": "code",
      "source": "x = \"Gone\" \nif x == \"Go\": \n    print('Go') \nelse: \n    print('Stop') \nprint('Mike')",
      "metadata": {
        "trusted": true
      },
      "outputs": [
        {
          "name": "stdout",
          "output_type": "stream",
          "text": "Stop\nMike\n"
        }
      ],
      "execution_count": 23
    },
    {
      "id": "bc94b5a2-f983-40ac-8243-04c8475fae04",
      "cell_type": "code",
      "source": "x = 1 \nx = x > 5\nx",
      "metadata": {
        "trusted": true
      },
      "outputs": [
        {
          "execution_count": 25,
          "output_type": "execute_result",
          "data": {
            "text/plain": "False"
          },
          "metadata": {}
        }
      ],
      "execution_count": 25
    },
    {
      "id": "7e309455-e272-4325-a1ae-49bba298a44a",
      "cell_type": "code",
      "source": "for i, x in enumerate(['A', 'B', 'C']): \n    print(i, 2 * x)",
      "metadata": {
        "trusted": true
      },
      "outputs": [
        {
          "name": "stdout",
          "output_type": "stream",
          "text": "0 AA\n1 BB\n2 CC\n"
        }
      ],
      "execution_count": 26
    },
    {
      "id": "97a3e530-3464-403a-a950-68980fce55d4",
      "cell_type": "code",
      "source": "a = 1 \n\n\ndef do(x): \n    return x + a \n\n\nprint(do(1))",
      "metadata": {
        "trusted": true
      },
      "outputs": [
        {
          "name": "stdout",
          "output_type": "stream",
          "text": "2\n"
        }
      ],
      "execution_count": 27
    },
    {
      "id": "42968e03-28d6-40bb-886d-7c19e1968955",
      "cell_type": "code",
      "source": "import numpy as np\na=np.array([10,9,8,7,6]) \n\na+1\n",
      "metadata": {
        "trusted": true
      },
      "outputs": [
        {
          "execution_count": 37,
          "output_type": "execute_result",
          "data": {
            "text/plain": "array([11, 10,  9,  8,  7])"
          },
          "metadata": {}
        }
      ],
      "execution_count": 37
    },
    {
      "id": "79c151c1-ea22-437a-978c-795cb1c33ce0",
      "cell_type": "code",
      "source": "try:\n    numerator = 10\n    denominator = 0\n    result = numerator / denominator\n    print(result)\nexcept ZeroDivisionError:\n    print(\"Error: Denominator cannot be 0.\")",
      "metadata": {
        "trusted": true
      },
      "outputs": [
        {
          "name": "stdout",
          "output_type": "stream",
          "text": "Error: Denominator cannot be 0.\n"
        }
      ],
      "execution_count": 34
    },
    {
      "id": "975b6aec-a5cb-4791-87f9-f1c743983d17",
      "cell_type": "code",
      "source": "file1.readline(4) ",
      "metadata": {
        "trusted": true
      },
      "outputs": [
        {
          "ename": "<class 'NameError'>",
          "evalue": "name 'file1' is not defined",
          "traceback": [
            "\u001b[0;31m---------------------------------------------------------------------------\u001b[0m",
            "\u001b[0;31mNameError\u001b[0m                                 Traceback (most recent call last)",
            "Cell \u001b[0;32mIn[38], line 1\u001b[0m\n\u001b[0;32m----> 1\u001b[0m \u001b[43mfile1\u001b[49m\u001b[38;5;241m.\u001b[39mreadline(\u001b[38;5;241m4\u001b[39m) \n",
            "\u001b[0;31mNameError\u001b[0m: name 'file1' is not defined"
          ],
          "output_type": "error"
        }
      ],
      "execution_count": 38
    },
    {
      "id": "ce881278-05ca-4312-8108-767695a2f933",
      "cell_type": "code",
      "source": "",
      "metadata": {
        "trusted": true
      },
      "outputs": [],
      "execution_count": null
    }
  ]
}