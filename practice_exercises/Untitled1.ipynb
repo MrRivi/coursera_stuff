{
  "metadata": {
    "kernelspec": {
      "name": "python",
      "display_name": "Python (Pyodide)",
      "language": "python"
    },
    "language_info": {
      "codemirror_mode": {
        "name": "python",
        "version": 3
      },
      "file_extension": ".py",
      "mimetype": "text/x-python",
      "name": "python",
      "nbconvert_exporter": "python",
      "pygments_lexer": "ipython3",
      "version": "3.8"
    }
  },
  "nbformat_minor": 5,
  "nbformat": 4,
  "cells": [
    {
      "id": "c1b3657b-4f76-4f3a-bd88-e46a80c1fca9",
      "cell_type": "code",
      "source": "1=2",
      "metadata": {
        "trusted": true
      },
      "outputs": [
        {
          "ename": "<class 'SyntaxError'>",
          "evalue": "cannot assign to literal here. Maybe you meant '==' instead of '='? (<ipython-input-2-a0aef98f5518>, line 1)",
          "traceback": [
            "\u001b[0;36m  Cell \u001b[0;32mIn[2], line 1\u001b[0;36m\u001b[0m\n\u001b[0;31m    1=2\u001b[0m\n\u001b[0m    ^\u001b[0m\n\u001b[0;31mSyntaxError\u001b[0m\u001b[0;31m:\u001b[0m cannot assign to literal here. Maybe you meant '==' instead of '='?\n"
          ],
          "output_type": "error"
        }
      ],
      "execution_count": 2
    },
    {
      "id": "f9e18173-f609-4a39-a357-406544ef5d28",
      "cell_type": "code",
      "source": "'a'=='A'",
      "metadata": {
        "trusted": true
      },
      "outputs": [
        {
          "execution_count": 3,
          "output_type": "execute_result",
          "data": {
            "text/plain": "False"
          },
          "metadata": {}
        }
      ],
      "execution_count": 3
    },
    {
      "id": "60f1c0f4-a83c-4bf4-ab75-101b25353c10",
      "cell_type": "code",
      "source": "for x in range(0, 3):\n    print(x)",
      "metadata": {
        "trusted": true
      },
      "outputs": [
        {
          "name": "stdout",
          "output_type": "stream",
          "text": "0\n1\n2\n"
        }
      ],
      "execution_count": 4
    },
    {
      "id": "634d9153-f2a1-487b-a973-64e7eaf338a0",
      "cell_type": "code",
      "source": "for x in ['A', 'B', 'C']:\n    print(x + 'A')",
      "metadata": {
        "trusted": true
      },
      "outputs": [
        {
          "name": "stdout",
          "output_type": "stream",
          "text": "AA\nBA\nCA\n"
        }
      ],
      "execution_count": 5
    },
    {
      "id": "cbf20abb-a17d-4a7a-88ae-20ca112810c3",
      "cell_type": "code",
      "source": "for i, x in enumerate(['A', 'B', 'C']):\n    print(i, x)\n",
      "metadata": {
        "trusted": true
      },
      "outputs": [
        {
          "name": "stdout",
          "output_type": "stream",
          "text": "0 A\n1 B\n2 C\n"
        }
      ],
      "execution_count": 6
    },
    {
      "id": "cce17540-0323-4af7-9aad-9191672561a1",
      "cell_type": "code",
      "source": "len(['A','B',1])",
      "metadata": {
        "trusted": true
      },
      "outputs": [
        {
          "execution_count": 10,
          "output_type": "execute_result",
          "data": {
            "text/plain": "3"
          },
          "metadata": {}
        }
      ],
      "execution_count": 10
    },
    {
      "id": "596abc27-5b55-437e-a154-3326c3f04f12",
      "cell_type": "code",
      "source": "len([sum([1,1,1])])",
      "metadata": {
        "trusted": true
      },
      "outputs": [
        {
          "execution_count": 8,
          "output_type": "execute_result",
          "data": {
            "text/plain": "1"
          },
          "metadata": {}
        }
      ],
      "execution_count": 8
    },
    {
      "id": "db507575-67c5-44e1-8ae2-91d0b95b9a91",
      "cell_type": "code",
      "source": "def print_function(A):\n    for a in A:\n        print(a + '1')\nprint_function(['a', 'b', 'c'])",
      "metadata": {
        "trusted": true
      },
      "outputs": [
        {
          "name": "stdout",
          "output_type": "stream",
          "text": "a1\nb1\nc1\n"
        }
      ],
      "execution_count": 9
    },
    {
      "id": "75442428-6065-4909-83bd-9534bb462bd4",
      "cell_type": "code",
      "source": "L=[1,3,2]\n\nsorted(L) ",
      "metadata": {
        "trusted": true
      },
      "outputs": [
        {
          "execution_count": 11,
          "output_type": "execute_result",
          "data": {
            "text/plain": "[1, 2, 3]"
          },
          "metadata": {}
        }
      ],
      "execution_count": 11
    },
    {
      "id": "b1eba997-366c-4fbf-acd3-215d23c9f212",
      "cell_type": "code",
      "source": "import numpy as np\na=np.array([0,1]) \n\nb=np.array([1,0]) \n\nnp.dot(a,b)",
      "metadata": {
        "trusted": true
      },
      "outputs": [
        {
          "execution_count": 16,
          "output_type": "execute_result",
          "data": {
            "text/plain": "np.int32(0)"
          },
          "metadata": {}
        }
      ],
      "execution_count": 16
    },
    {
      "id": "2beab130-61a6-457c-b211-359f97af4030",
      "cell_type": "code",
      "source": "X=np.array([[1,0],[0,1]]) \n\nY=np.array([[0,1],[1,0]]) \n\nZ=X+Y ",
      "metadata": {
        "trusted": true
      },
      "outputs": [],
      "execution_count": 17
    },
    {
      "id": "868a5f41-131d-40c5-a0a8-0e6bdba327b2",
      "cell_type": "code",
      "source": "Z",
      "metadata": {
        "trusted": true
      },
      "outputs": [
        {
          "execution_count": 18,
          "output_type": "execute_result",
          "data": {
            "text/plain": "array([[1, 1],\n       [1, 1]])"
          },
          "metadata": {}
        }
      ],
      "execution_count": 18
    },
    {
      "id": "9fcc31ff-be61-42bd-9b9e-37b9aa53fb5d",
      "cell_type": "code",
      "source": "X=np.array([[1,0,1],[2,2,2]]) \n\nout=X[0:2,2]\nout",
      "metadata": {
        "trusted": true
      },
      "outputs": [
        {
          "execution_count": 20,
          "output_type": "execute_result",
          "data": {
            "text/plain": "array([1, 2])"
          },
          "metadata": {}
        }
      ],
      "execution_count": 20
    },
    {
      "id": "e0f94f3d-80ec-4c5d-b3f9-2e6b176a7db9",
      "cell_type": "code",
      "source": "",
      "metadata": {
        "trusted": true
      },
      "outputs": [],
      "execution_count": null
    }
  ]
}